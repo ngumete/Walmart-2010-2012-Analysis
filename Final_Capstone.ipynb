{
  "nbformat": 4,
  "nbformat_minor": 0,
  "metadata": {
    "colab": {
      "name": "Final Capstone",
      "provenance": [],
      "collapsed_sections": []
    },
    "kernelspec": {
      "name": "python3",
      "display_name": "Python 3"
    }
  },
  "cells": [
    {
      "cell_type": "code",
      "metadata": {
        "id": "NIrqESX8oAGm",
        "colab_type": "code",
        "outputId": "e987f42c-c16c-42ec-f22a-312622d5c28d",
        "colab": {
          "base_uri": "https://localhost:8080/",
          "height": 34
        }
      },
      "source": [
        "from google.colab import drive\n",
        "drive.mount('/content/gdrive')\n",
        "\n"
      ],
      "execution_count": 0,
      "outputs": [
        {
          "output_type": "stream",
          "text": [
            "Drive already mounted at /content/gdrive; to attempt to forcibly remount, call drive.mount(\"/content/gdrive\", force_remount=True).\n"
          ],
          "name": "stdout"
        }
      ]
    },
    {
      "cell_type": "code",
      "metadata": {
        "id": "60XRICDatSOg",
        "colab_type": "code",
        "outputId": "14fd0d03-eb9e-4814-f0b8-57efb40dc249",
        "colab": {
          "base_uri": "https://localhost:8080/",
          "height": 111
        }
      },
      "source": [
        "import pandas as pd\n",
        "from scipy import stats\n",
        "import seaborn as sns\n",
        "import math\n",
        "import statistics\n",
        "import matplotlib.pyplot as plt\n",
        "\n",
        "# https://www.kaggle.com/c/walmart-recruiting-store-sales-forecasting/data\n",
        "\n",
        "walmart = pd.read_csv('/content/gdrive/My Drive/Colab Datasets/Final Capstone.csv')\n",
        "walmart.head(2)"
      ],
      "execution_count": 0,
      "outputs": [
        {
          "output_type": "execute_result",
          "data": {
            "text/html": [
              "<div>\n",
              "<style scoped>\n",
              "    .dataframe tbody tr th:only-of-type {\n",
              "        vertical-align: middle;\n",
              "    }\n",
              "\n",
              "    .dataframe tbody tr th {\n",
              "        vertical-align: top;\n",
              "    }\n",
              "\n",
              "    .dataframe thead th {\n",
              "        text-align: right;\n",
              "    }\n",
              "</style>\n",
              "<table border=\"1\" class=\"dataframe\">\n",
              "  <thead>\n",
              "    <tr style=\"text-align: right;\">\n",
              "      <th></th>\n",
              "      <th>Unique_ID</th>\n",
              "      <th>Store</th>\n",
              "      <th>Dept</th>\n",
              "      <th>Date</th>\n",
              "      <th>Weekly_Sales</th>\n",
              "      <th>IsHoliday</th>\n",
              "      <th>IsSummer</th>\n",
              "      <th>Type</th>\n",
              "      <th>Store_Size</th>\n",
              "      <th>Temperature</th>\n",
              "      <th>Fuel_Price</th>\n",
              "      <th>CPI</th>\n",
              "      <th>Unemployment</th>\n",
              "    </tr>\n",
              "  </thead>\n",
              "  <tbody>\n",
              "    <tr>\n",
              "      <th>0</th>\n",
              "      <td>140214</td>\n",
              "      <td>1</td>\n",
              "      <td>1</td>\n",
              "      <td>2/5/10</td>\n",
              "      <td>24924.50</td>\n",
              "      <td>False</td>\n",
              "      <td>False</td>\n",
              "      <td>A</td>\n",
              "      <td>151315</td>\n",
              "      <td>42.31</td>\n",
              "      <td>2.572</td>\n",
              "      <td>211.096358</td>\n",
              "      <td>8.106</td>\n",
              "    </tr>\n",
              "    <tr>\n",
              "      <th>1</th>\n",
              "      <td>140221</td>\n",
              "      <td>1</td>\n",
              "      <td>1</td>\n",
              "      <td>2/12/10</td>\n",
              "      <td>46039.49</td>\n",
              "      <td>True</td>\n",
              "      <td>False</td>\n",
              "      <td>A</td>\n",
              "      <td>151315</td>\n",
              "      <td>38.51</td>\n",
              "      <td>2.548</td>\n",
              "      <td>211.242170</td>\n",
              "      <td>8.106</td>\n",
              "    </tr>\n",
              "  </tbody>\n",
              "</table>\n",
              "</div>"
            ],
            "text/plain": [
              "   Unique_ID  Store  Dept  ... Fuel_Price         CPI  Unemployment\n",
              "0     140214      1     1  ...      2.572  211.096358         8.106\n",
              "1     140221      1     1  ...      2.548  211.242170         8.106\n",
              "\n",
              "[2 rows x 13 columns]"
            ]
          },
          "metadata": {
            "tags": []
          },
          "execution_count": 44
        }
      ]
    },
    {
      "cell_type": "code",
      "metadata": {
        "id": "b0Td8ECG1-Yu",
        "colab_type": "code",
        "outputId": "e200560d-da5d-4475-b7d7-bad54dcf12b2",
        "colab": {
          "base_uri": "https://localhost:8080/",
          "height": 323
        }
      },
      "source": [
        "walmart.info()"
      ],
      "execution_count": 0,
      "outputs": [
        {
          "output_type": "stream",
          "text": [
            "<class 'pandas.core.frame.DataFrame'>\n",
            "RangeIndex: 421570 entries, 0 to 421569\n",
            "Data columns (total 13 columns):\n",
            "Unique_ID       421570 non-null int64\n",
            "Store           421570 non-null int64\n",
            "Dept            421570 non-null int64\n",
            "Date            421570 non-null object\n",
            "Weekly_Sales    421570 non-null float64\n",
            "IsHoliday       421570 non-null bool\n",
            "IsSummer        421570 non-null bool\n",
            "Type            421570 non-null object\n",
            "Store_Size      421570 non-null int64\n",
            "Temperature     421570 non-null float64\n",
            "Fuel_Price      421570 non-null float64\n",
            "CPI             421570 non-null float64\n",
            "Unemployment    421570 non-null float64\n",
            "dtypes: bool(2), float64(5), int64(4), object(2)\n",
            "memory usage: 36.2+ MB\n"
          ],
          "name": "stdout"
        }
      ]
    },
    {
      "cell_type": "code",
      "metadata": {
        "id": "lKe6P4DCvSEa",
        "colab_type": "code",
        "outputId": "9e3cbe15-dd7a-48bc-eb96-c0d06472cc9a",
        "colab": {
          "base_uri": "https://localhost:8080/",
          "height": 85
        }
      },
      "source": [
        "print('There are {} stores in this dataset'.format(walmart['Store'].max()))\n",
        "print('There are {} departments in this dataset'.format(walmart['Dept'].max()))\n",
        "print('Each row shows the weekly sales of an individual department in a store.')\n",
        "print('The timeframe of this dataset is 2010-02-05 to 2012-11-01.')"
      ],
      "execution_count": 0,
      "outputs": [
        {
          "output_type": "stream",
          "text": [
            "There are 45 stores in this dataset\n",
            "There are 99 departments in this dataset\n",
            "Each row shows the weekly sales of an individual department in a store.\n",
            "The timeframe of this dataset is 2010-02-05 to 2012-11-01.\n"
          ],
          "name": "stdout"
        }
      ]
    },
    {
      "cell_type": "code",
      "metadata": {
        "id": "8QaSfrgowYlK",
        "colab_type": "code",
        "colab": {}
      },
      "source": [
        "# The goal is to analyze the dataset for factors that drive sales to better understand when and where Walmart needs to increase their inventory\n",
        "# Now lets see what factors drive sales"
      ],
      "execution_count": 0,
      "outputs": []
    },
    {
      "cell_type": "code",
      "metadata": {
        "id": "XsFl8IHHXZxh",
        "colab_type": "code",
        "outputId": "21f8d6f4-e86b-44cc-948e-32867cf41ee3",
        "colab": {
          "base_uri": "https://localhost:8080/",
          "height": 500
        }
      },
      "source": [
        "plt.figure(figsize = (20,8))\n",
        "sns.distplot(walmart['Weekly_Sales'], bins=200)\n",
        "plt.xlabel('Weekly Sales')\n",
        "sns.despine()"
      ],
      "execution_count": 0,
      "outputs": [
        {
          "output_type": "display_data",
          "data": {
            "image/png": "[encoded data removed]",
            "text/plain": [
              "<Figure size 1440x576 with 1 Axes>"
            ]
          },
          "metadata": {
            "tags": []
          }
        }
      ]
    },
    {
      "cell_type": "code",
      "metadata": {
        "id": "tNBNbAZzXlhD",
        "colab_type": "code",
        "colab": {}
      },
      "source": [
        "# It seems that we have a couple of outliers in between $600,000 and $700,000\n",
        "# Lets see if those outliers are because of specific store or department"
      ],
      "execution_count": 0,
      "outputs": []
    },
    {
      "cell_type": "code",
      "metadata": {
        "id": "LC45x8HmMK-h",
        "colab_type": "code",
        "outputId": "a500e6bc-5922-4d6a-c013-a19825de6ac9",
        "colab": {
          "base_uri": "https://localhost:8080/",
          "height": 500
        }
      },
      "source": [
        "plt.figure(figsize = (20,8))\n",
        "sns.boxplot(y='Weekly_Sales', x='Store', data=walmart)\n",
        "sns.despine()\n",
        "plt.xlabel('Stores')\n",
        "plt.ylabel('Weekly Sales')\n",
        "plt.show()"
      ],
      "execution_count": 0,
      "outputs": [
        {
          "output_type": "display_data",
          "data": {
            "image/png": "[encoded data removed]",
            "text/plain": [
              "<Figure size 1440x576 with 1 Axes>"
            ]
          },
          "metadata": {
            "tags": []
          }
        }
      ]
    },
    {
      "cell_type": "code",
      "metadata": {
        "id": "L6slSxZ5-2fi",
        "colab_type": "code",
        "outputId": "627151f7-0158-471a-c0a0-f8ace8a1d1ff",
        "colab": {
          "base_uri": "https://localhost:8080/",
          "height": 500
        }
      },
      "source": [
        "plt.figure(figsize = (20,8))\n",
        "sns.boxplot(y='Weekly_Sales', x='Dept', data=walmart)\n",
        "sns.despine()\n",
        "plt.xlabel('Department')\n",
        "plt.ylabel('Weekly Sales')\n",
        "plt.show()"
      ],
      "execution_count": 0,
      "outputs": [
        {
          "output_type": "display_data",
          "data": {
            "image/png": "[encoded data removed]",
            "text/plain": [
              "<Figure size 1440x576 with 1 Axes>"
            ]
          },
          "metadata": {
            "tags": []
          }
        }
      ]
    },
    {
      "cell_type": "code",
      "metadata": {
        "id": "y6UxzZoewl0X",
        "colab_type": "code",
        "outputId": "22d617b5-af6b-4e89-830e-11cee89ce282",
        "colab": {
          "base_uri": "https://localhost:8080/",
          "height": 390
        }
      },
      "source": [
        "walmart.corr()"
      ],
      "execution_count": 0,
      "outputs": [
        {
          "output_type": "execute_result",
          "data": {
            "text/html": [
              "<div>\n",
              "<style scoped>\n",
              "    .dataframe tbody tr th:only-of-type {\n",
              "        vertical-align: middle;\n",
              "    }\n",
              "\n",
              "    .dataframe tbody tr th {\n",
              "        vertical-align: top;\n",
              "    }\n",
              "\n",
              "    .dataframe thead th {\n",
              "        text-align: right;\n",
              "    }\n",
              "</style>\n",
              "<table border=\"1\" class=\"dataframe\">\n",
              "  <thead>\n",
              "    <tr style=\"text-align: right;\">\n",
              "      <th></th>\n",
              "      <th>Unique_ID</th>\n",
              "      <th>Store</th>\n",
              "      <th>Dept</th>\n",
              "      <th>Weekly_Sales</th>\n",
              "      <th>IsHoliday</th>\n",
              "      <th>IsSummer</th>\n",
              "      <th>Store_Size</th>\n",
              "      <th>Temperature</th>\n",
              "      <th>Fuel_Price</th>\n",
              "      <th>CPI</th>\n",
              "      <th>Unemployment</th>\n",
              "    </tr>\n",
              "  </thead>\n",
              "  <tbody>\n",
              "    <tr>\n",
              "      <th>Unique_ID</th>\n",
              "      <td>1.000000</td>\n",
              "      <td>1.000000</td>\n",
              "      <td>0.024005</td>\n",
              "      <td>-0.085195</td>\n",
              "      <td>-0.000551</td>\n",
              "      <td>0.002104</td>\n",
              "      <td>-0.182883</td>\n",
              "      <td>-0.050064</td>\n",
              "      <td>0.065465</td>\n",
              "      <td>-0.211070</td>\n",
              "      <td>0.208497</td>\n",
              "    </tr>\n",
              "    <tr>\n",
              "      <th>Store</th>\n",
              "      <td>1.000000</td>\n",
              "      <td>1.000000</td>\n",
              "      <td>0.024004</td>\n",
              "      <td>-0.085195</td>\n",
              "      <td>-0.000548</td>\n",
              "      <td>0.002085</td>\n",
              "      <td>-0.182881</td>\n",
              "      <td>-0.050097</td>\n",
              "      <td>0.065290</td>\n",
              "      <td>-0.211088</td>\n",
              "      <td>0.208552</td>\n",
              "    </tr>\n",
              "    <tr>\n",
              "      <th>Dept</th>\n",
              "      <td>0.024005</td>\n",
              "      <td>0.024004</td>\n",
              "      <td>1.000000</td>\n",
              "      <td>0.148032</td>\n",
              "      <td>0.000916</td>\n",
              "      <td>0.002668</td>\n",
              "      <td>-0.002966</td>\n",
              "      <td>0.004437</td>\n",
              "      <td>0.003572</td>\n",
              "      <td>-0.007477</td>\n",
              "      <td>0.007837</td>\n",
              "    </tr>\n",
              "    <tr>\n",
              "      <th>Weekly_Sales</th>\n",
              "      <td>-0.085195</td>\n",
              "      <td>-0.085195</td>\n",
              "      <td>0.148032</td>\n",
              "      <td>1.000000</td>\n",
              "      <td>0.012774</td>\n",
              "      <td>0.002644</td>\n",
              "      <td>0.243828</td>\n",
              "      <td>-0.002312</td>\n",
              "      <td>-0.000120</td>\n",
              "      <td>-0.020921</td>\n",
              "      <td>-0.025864</td>\n",
              "    </tr>\n",
              "    <tr>\n",
              "      <th>IsHoliday</th>\n",
              "      <td>-0.000551</td>\n",
              "      <td>-0.000548</td>\n",
              "      <td>0.000916</td>\n",
              "      <td>0.012774</td>\n",
              "      <td>1.000000</td>\n",
              "      <td>-0.170798</td>\n",
              "      <td>0.000593</td>\n",
              "      <td>-0.155949</td>\n",
              "      <td>-0.078281</td>\n",
              "      <td>-0.001944</td>\n",
              "      <td>0.010460</td>\n",
              "    </tr>\n",
              "    <tr>\n",
              "      <th>IsSummer</th>\n",
              "      <td>0.002104</td>\n",
              "      <td>0.002085</td>\n",
              "      <td>0.002668</td>\n",
              "      <td>0.002644</td>\n",
              "      <td>-0.170798</td>\n",
              "      <td>1.000000</td>\n",
              "      <td>-0.000070</td>\n",
              "      <td>0.591933</td>\n",
              "      <td>0.029730</td>\n",
              "      <td>0.003936</td>\n",
              "      <td>-0.019169</td>\n",
              "    </tr>\n",
              "    <tr>\n",
              "      <th>Store_Size</th>\n",
              "      <td>-0.182883</td>\n",
              "      <td>-0.182881</td>\n",
              "      <td>-0.002966</td>\n",
              "      <td>0.243828</td>\n",
              "      <td>0.000593</td>\n",
              "      <td>-0.000070</td>\n",
              "      <td>1.000000</td>\n",
              "      <td>-0.058313</td>\n",
              "      <td>0.003361</td>\n",
              "      <td>-0.003314</td>\n",
              "      <td>-0.068238</td>\n",
              "    </tr>\n",
              "    <tr>\n",
              "      <th>Temperature</th>\n",
              "      <td>-0.050064</td>\n",
              "      <td>-0.050097</td>\n",
              "      <td>0.004437</td>\n",
              "      <td>-0.002312</td>\n",
              "      <td>-0.155949</td>\n",
              "      <td>0.591933</td>\n",
              "      <td>-0.058313</td>\n",
              "      <td>1.000000</td>\n",
              "      <td>0.143859</td>\n",
              "      <td>0.182112</td>\n",
              "      <td>0.096730</td>\n",
              "    </tr>\n",
              "    <tr>\n",
              "      <th>Fuel_Price</th>\n",
              "      <td>0.065465</td>\n",
              "      <td>0.065290</td>\n",
              "      <td>0.003572</td>\n",
              "      <td>-0.000120</td>\n",
              "      <td>-0.078281</td>\n",
              "      <td>0.029730</td>\n",
              "      <td>0.003361</td>\n",
              "      <td>0.143859</td>\n",
              "      <td>1.000000</td>\n",
              "      <td>-0.164210</td>\n",
              "      <td>-0.033853</td>\n",
              "    </tr>\n",
              "    <tr>\n",
              "      <th>CPI</th>\n",
              "      <td>-0.211070</td>\n",
              "      <td>-0.211088</td>\n",
              "      <td>-0.007477</td>\n",
              "      <td>-0.020921</td>\n",
              "      <td>-0.001944</td>\n",
              "      <td>0.003936</td>\n",
              "      <td>-0.003314</td>\n",
              "      <td>0.182112</td>\n",
              "      <td>-0.164210</td>\n",
              "      <td>1.000000</td>\n",
              "      <td>-0.299953</td>\n",
              "    </tr>\n",
              "    <tr>\n",
              "      <th>Unemployment</th>\n",
              "      <td>0.208497</td>\n",
              "      <td>0.208552</td>\n",
              "      <td>0.007837</td>\n",
              "      <td>-0.025864</td>\n",
              "      <td>0.010460</td>\n",
              "      <td>-0.019169</td>\n",
              "      <td>-0.068238</td>\n",
              "      <td>0.096730</td>\n",
              "      <td>-0.033853</td>\n",
              "      <td>-0.299953</td>\n",
              "      <td>1.000000</td>\n",
              "    </tr>\n",
              "  </tbody>\n",
              "</table>\n",
              "</div>"
            ],
            "text/plain": [
              "              Unique_ID     Store      Dept  ...  Fuel_Price       CPI  Unemployment\n",
              "Unique_ID      1.000000  1.000000  0.024005  ...    0.065465 -0.211070      0.208497\n",
              "Store          1.000000  1.000000  0.024004  ...    0.065290 -0.211088      0.208552\n",
              "Dept           0.024005  0.024004  1.000000  ...    0.003572 -0.007477      0.007837\n",
              "Weekly_Sales  -0.085195 -0.085195  0.148032  ...   -0.000120 -0.020921     -0.025864\n",
              "IsHoliday     -0.000551 -0.000548  0.000916  ...   -0.078281 -0.001944      0.010460\n",
              "IsSummer       0.002104  0.002085  0.002668  ...    0.029730  0.003936     -0.019169\n",
              "Store_Size    -0.182883 -0.182881 -0.002966  ...    0.003361 -0.003314     -0.068238\n",
              "Temperature   -0.050064 -0.050097  0.004437  ...    0.143859  0.182112      0.096730\n",
              "Fuel_Price     0.065465  0.065290  0.003572  ...    1.000000 -0.164210     -0.033853\n",
              "CPI           -0.211070 -0.211088 -0.007477  ...   -0.164210  1.000000     -0.299953\n",
              "Unemployment   0.208497  0.208552  0.007837  ...   -0.033853 -0.299953      1.000000\n",
              "\n",
              "[11 rows x 11 columns]"
            ]
          },
          "metadata": {
            "tags": []
          },
          "execution_count": 52
        }
      ]
    },
    {
      "cell_type": "code",
      "metadata": {
        "id": "OqeuuumV0jJP",
        "colab_type": "code",
        "outputId": "aed26803-6200-491b-a53f-7a605facb695",
        "colab": {
          "base_uri": "https://localhost:8080/",
          "height": 34
        }
      },
      "source": [
        "stats.pearsonr(walmart['Weekly_Sales'], walmart['Store_Size'])"
      ],
      "execution_count": 0,
      "outputs": [
        {
          "output_type": "execute_result",
          "data": {
            "text/plain": [
              "(0.2438279922630427, 0.0)"
            ]
          },
          "metadata": {
            "tags": []
          },
          "execution_count": 53
        }
      ]
    },
    {
      "cell_type": "markdown",
      "metadata": {
        "id": "X_OS5aohX5mO",
        "colab_type": "text"
      },
      "source": [
        "There seems to be a somewhat positive correlation between Store_size and Weekly_Sales and the p-value is < 0.05 so the correlation is significant here\n",
        "\n",
        "My hypothesis is that the mean of bigger store is greater then the mean of smaller store \n",
        "\n",
        "My second hypothesis is that the mean of Weekly Sales is greater during the Summer than in other Season\n",
        "\n",
        "My thrid hypothesis is that the mean of Weekly Sales is greater during Holidays \n",
        "\n",
        "Understanding these trends could help us understand at which stores we need to increase or decrease inventory and also when to increase or decrease inventory\n",
        "\n",
        "(The second and third hypothesis are derived from my understanding of the market)"
      ]
    },
    {
      "cell_type": "markdown",
      "metadata": {
        "id": "vCyMl5hFXf95",
        "colab_type": "text"
      },
      "source": [
        "**Hypothesis 1**\n",
        "\n",
        "Null Hypothesis: The mean of Weekly Sales in bigger store is equal to the mean of Weekly Sales in smaller stores\n",
        "\n",
        "Alternative Hypothesis: The mean of Weekly Sales is greater in bigger stores than in smaller stores\n",
        "\n",
        "~\n",
        "\n",
        "To do this I will need to split the Store size by median then test the average of the upper half to the average of the lower half"
      ]
    },
    {
      "cell_type": "code",
      "metadata": {
        "id": "gHzHa0FWa27g",
        "colab_type": "code",
        "outputId": "09ff3115-9f46-4674-cfd4-5e1009302ca4",
        "colab": {
          "base_uri": "https://localhost:8080/",
          "height": 301
        }
      },
      "source": [
        "sns.scatterplot(x='Store_Size', y='Weekly_Sales', data=walmart)"
      ],
      "execution_count": 0,
      "outputs": [
        {
          "output_type": "execute_result",
          "data": {
            "text/plain": [
              "<matplotlib.axes._subplots.AxesSubplot at 0x7f10c3f072e8>"
            ]
          },
          "metadata": {
            "tags": []
          },
          "execution_count": 54
        },
        {
          "output_type": "display_data",
          "data": {
            "image/png": "[encoded data removed]",
            "text/plain": [
              "<Figure size 432x288 with 1 Axes>"
            ]
          },
          "metadata": {
            "tags": []
          }
        }
      ]
    },
    {
      "cell_type": "code",
      "metadata": {
        "id": "Hm5rLi-MD-_1",
        "colab_type": "code",
        "outputId": "21797cbb-272e-456f-bc7d-44359a360add",
        "colab": {
          "base_uri": "https://localhost:8080/",
          "height": 34
        }
      },
      "source": [
        "walmart['Store_Size'].median()"
      ],
      "execution_count": 0,
      "outputs": [
        {
          "output_type": "execute_result",
          "data": {
            "text/plain": [
              "140167.0"
            ]
          },
          "metadata": {
            "tags": []
          },
          "execution_count": 55
        }
      ]
    },
    {
      "cell_type": "code",
      "metadata": {
        "id": "J_37gB9d8Kq7",
        "colab_type": "code",
        "outputId": "ae3a1078-5ce2-4a7f-f94e-61ac1743bff5",
        "colab": {
          "base_uri": "https://localhost:8080/",
          "height": 323
        }
      },
      "source": [
        "median = walmart['Store_Size'].median()\n",
        "bigger_stores = walmart.iloc[(walmart['Store_Size'] >= median).values]\n",
        "smaller_stores = walmart.iloc[(walmart['Store_Size'] < median).values]\n",
        "bigger_stores.info()"
      ],
      "execution_count": 0,
      "outputs": [
        {
          "output_type": "stream",
          "text": [
            "<class 'pandas.core.frame.DataFrame'>\n",
            "Int64Index: 212351 entries, 0 to 391059\n",
            "Data columns (total 13 columns):\n",
            "Unique_ID       212351 non-null int64\n",
            "Store           212351 non-null int64\n",
            "Dept            212351 non-null int64\n",
            "Date            212351 non-null object\n",
            "Weekly_Sales    212351 non-null float64\n",
            "IsHoliday       212351 non-null bool\n",
            "IsSummer        212351 non-null bool\n",
            "Type            212351 non-null object\n",
            "Store_Size      212351 non-null int64\n",
            "Temperature     212351 non-null float64\n",
            "Fuel_Price      212351 non-null float64\n",
            "CPI             212351 non-null float64\n",
            "Unemployment    212351 non-null float64\n",
            "dtypes: bool(2), float64(5), int64(4), object(2)\n",
            "memory usage: 19.8+ MB\n"
          ],
          "name": "stdout"
        }
      ]
    },
    {
      "cell_type": "code",
      "metadata": {
        "id": "LvZn8AFMGuw5",
        "colab_type": "code",
        "outputId": "5518f787-e873-4861-bc7b-d0553c362809",
        "colab": {
          "base_uri": "https://localhost:8080/",
          "height": 323
        }
      },
      "source": [
        "smaller_stores.info()"
      ],
      "execution_count": 0,
      "outputs": [
        {
          "output_type": "stream",
          "text": [
            "<class 'pandas.core.frame.DataFrame'>\n",
            "Int64Index: 209219 entries, 20482 to 421569\n",
            "Data columns (total 13 columns):\n",
            "Unique_ID       209219 non-null int64\n",
            "Store           209219 non-null int64\n",
            "Dept            209219 non-null int64\n",
            "Date            209219 non-null object\n",
            "Weekly_Sales    209219 non-null float64\n",
            "IsHoliday       209219 non-null bool\n",
            "IsSummer        209219 non-null bool\n",
            "Type            209219 non-null object\n",
            "Store_Size      209219 non-null int64\n",
            "Temperature     209219 non-null float64\n",
            "Fuel_Price      209219 non-null float64\n",
            "CPI             209219 non-null float64\n",
            "Unemployment    209219 non-null float64\n",
            "dtypes: bool(2), float64(5), int64(4), object(2)\n",
            "memory usage: 19.6+ MB\n"
          ],
          "name": "stdout"
        }
      ]
    },
    {
      "cell_type": "code",
      "metadata": {
        "id": "eh66yF5FoZ5r",
        "colab_type": "code",
        "outputId": "fdfadb84-b99c-4b89-b8b3-606eb686a124",
        "colab": {
          "base_uri": "https://localhost:8080/",
          "height": 34
        }
      },
      "source": [
        "sum(bigger_stores['Weekly_Sales']) / len(bigger_stores['Weekly_Sales'])"
      ],
      "execution_count": 0,
      "outputs": [
        {
          "output_type": "execute_result",
          "data": {
            "text/plain": [
              "20478.17135186557"
            ]
          },
          "metadata": {
            "tags": []
          },
          "execution_count": 58
        }
      ]
    },
    {
      "cell_type": "code",
      "metadata": {
        "id": "ZUFeXkcIGy3Y",
        "colab_type": "code",
        "colab": {}
      },
      "source": [
        "# Now that I have my data and there is also no null values, I can start the independent sample test"
      ],
      "execution_count": 0,
      "outputs": []
    },
    {
      "cell_type": "code",
      "metadata": {
        "id": "S2t50bpkZzZC",
        "colab_type": "code",
        "colab": {}
      },
      "source": [
        ""
      ],
      "execution_count": 0,
      "outputs": []
    },
    {
      "cell_type": "code",
      "metadata": {
        "id": "2QEiT3jUHRmZ",
        "colab_type": "code",
        "outputId": "ac88df5e-86ec-4a5d-f70d-60fa765db13c",
        "colab": {
          "base_uri": "https://localhost:8080/",
          "height": 34
        }
      },
      "source": [
        "stats.ttest_ind(bigger_stores['Weekly_Sales'], smaller_stores['Weekly_Sales'])"
      ],
      "execution_count": 0,
      "outputs": [
        {
          "output_type": "execute_result",
          "data": {
            "text/plain": [
              "Ttest_indResult(statistic=132.1761730405638, pvalue=0.0)"
            ]
          },
          "metadata": {
            "tags": []
          },
          "execution_count": 60
        }
      ]
    },
    {
      "cell_type": "markdown",
      "metadata": {
        "id": "ZVIVe-DVKdnz",
        "colab_type": "text"
      },
      "source": [
        "There is a difference of 132 standard deviation between the means of these two datasets. Now lets calculate a confidence interval to get an understanding of effect size"
      ]
    },
    {
      "cell_type": "code",
      "metadata": {
        "id": "WWXzw3_aL4oJ",
        "colab_type": "code",
        "colab": {}
      },
      "source": [
        " # Function for the Confidence Interval\n",
        " def get_95_ci(array_1, array_2):\n",
        "    sample_1_n = array_1.shape[0]\n",
        "    sample_2_n = array_2.shape[0]\n",
        "    sample_1_mean = array_1.mean()\n",
        "    sample_2_mean = array_2.mean()\n",
        "    sample_1_var = array_1.var()\n",
        "    sample_2_var = array_2.var()\n",
        "    mean_difference = sample_2_mean - sample_1_mean\n",
        "    std_err_difference = math.sqrt((sample_1_var/sample_1_n)+(sample_2_var/sample_2_n))\n",
        "    margin_of_error = 1.96 * std_err_difference\n",
        "    ci_lower = mean_difference - margin_of_error\n",
        "    ci_upper = mean_difference + margin_of_error\n",
        "    return(\"The difference in means at the 95% confidence interval (two-tail) is between \"+str(ci_lower)+\" and \"+str(ci_upper)+\".\")\n",
        "\n",
        "\n"
      ],
      "execution_count": 0,
      "outputs": []
    },
    {
      "cell_type": "code",
      "metadata": {
        "id": "m_Nzq8_bMl7g",
        "colab_type": "code",
        "outputId": "ed2fe0ba-01bd-41b8-99c2-0c3ae0e45b94",
        "colab": {
          "base_uri": "https://localhost:8080/",
          "height": 34
        }
      },
      "source": [
        "get_95_ci(smaller_stores['Weekly_Sales'], bigger_stores['Weekly_Sales'])"
      ],
      "execution_count": 0,
      "outputs": [
        {
          "output_type": "execute_result",
          "data": {
            "text/plain": [
              "'The difference in means at the 95% confidence interval (two-tail) is between 8927.20036670907 and 9195.089766556286.'"
            ]
          },
          "metadata": {
            "tags": []
          },
          "execution_count": 62
        }
      ]
    },
    {
      "cell_type": "markdown",
      "metadata": {
        "id": "1GkVpq-Oa5mm",
        "colab_type": "text"
      },
      "source": [
        "Now lets calculate the effect size using Cohen's D"
      ]
    },
    {
      "cell_type": "code",
      "metadata": {
        "id": "fnR87vZMM3ZA",
        "colab_type": "code",
        "colab": {}
      },
      "source": [
        "def cohens_d(x ,y):\n",
        "  x_variance = x.var()\n",
        "  y_variance = y.var()\n",
        "  x_mean = x.mean()\n",
        "  y_mean = y.mean()\n",
        "  s_pooled = math.sqrt((x_variance + y_variance)/2)\n",
        "  cohen = (y_mean - x_mean) / s_pooled\n",
        "  return cohen"
      ],
      "execution_count": 0,
      "outputs": []
    },
    {
      "cell_type": "code",
      "metadata": {
        "id": "awJMVPhwNc8w",
        "colab_type": "code",
        "outputId": "48919321-4546-4dec-ffaf-ddf27a098a7e",
        "colab": {
          "base_uri": "https://localhost:8080/",
          "height": 34
        }
      },
      "source": [
        "cohens_d(smaller_stores['Weekly_Sales'], bigger_stores['Weekly_Sales'])"
      ],
      "execution_count": 0,
      "outputs": [
        {
          "output_type": "execute_result",
          "data": {
            "text/plain": [
              "0.40779271785921944"
            ]
          },
          "metadata": {
            "tags": []
          },
          "execution_count": 64
        }
      ]
    },
    {
      "cell_type": "markdown",
      "metadata": {
        "id": "4MWh6o_KeUX8",
        "colab_type": "text"
      },
      "source": [
        "**Hypothesis 1 Conclusion** \n",
        "\n",
        "Reject the null hypothesis that mean of Weekly Sales is equal during Holidays and Non-Holidays\n",
        "\n",
        "The sample means are significantly different from each other at p < 0.005\n",
        "\n",
        "The difference in means at the 95% confidence interval (two-tail) is between 8927 and 9195 dollars\n",
        "\n",
        "Cohen's D is .4 indicating a medium effect size\n"
      ]
    },
    {
      "cell_type": "markdown",
      "metadata": {
        "id": "F-Jgn-pUfhRz",
        "colab_type": "text"
      },
      "source": [
        "**Hypothesis 2** \n",
        "\n",
        "Null Hypothesis: The mean of Weekly Sales during Summer is equal to the mean of Weekly Sales during other seasons\n",
        "\n",
        "Alternative Hypothesis: The mean of Weekly Sales is greater during the Summer than in other seasons\n",
        "\n",
        "~\n",
        "\n",
        "The process shall be the same as before. This time we are sectioning our data by dates. \n",
        "\n",
        "We will be analyzing the means of Weekly Sales during the months of June, July, and August (Summer) \n",
        "\n",
        "against the means of Weekly Sales during the rest of the year"
      ]
    },
    {
      "cell_type": "code",
      "metadata": {
        "id": "IFWwXOpcbTHa",
        "colab_type": "code",
        "outputId": "89d296d6-2f43-4af4-b6ed-af4c90c5d8f7",
        "colab": {
          "base_uri": "https://localhost:8080/",
          "height": 517
        }
      },
      "source": [
        "plt.figure(figsize = (11,8))\n",
        "sns.boxenplot( y='Weekly_Sales', x='IsSummer', data=walmart)"
      ],
      "execution_count": 0,
      "outputs": [
        {
          "output_type": "execute_result",
          "data": {
            "text/plain": [
              "<matplotlib.axes._subplots.AxesSubplot at 0x7f10c3fc1dd8>"
            ]
          },
          "metadata": {
            "tags": []
          },
          "execution_count": 65
        },
        {
          "output_type": "display_data",
          "data": {
            "image/png": "[encoded data removed]",
            "text/plain": [
              "<Figure size 792x576 with 1 Axes>"
            ]
          },
          "metadata": {
            "tags": []
          }
        }
      ]
    },
    {
      "cell_type": "code",
      "metadata": {
        "id": "RjhmiQl1eTjZ",
        "colab_type": "code",
        "outputId": "735544d8-93b7-4ec9-9698-e8e60c656851",
        "colab": {
          "base_uri": "https://localhost:8080/",
          "height": 323
        }
      },
      "source": [
        "summer = walmart.iloc[(walmart['IsSummer'] == True).values]\n",
        "not_summer = walmart.iloc[(walmart['IsSummer'] == False).values]\n",
        "summer.info()"
      ],
      "execution_count": 0,
      "outputs": [
        {
          "output_type": "stream",
          "text": [
            "<class 'pandas.core.frame.DataFrame'>\n",
            "Int64Index: 117286 entries, 17 to 421561\n",
            "Data columns (total 13 columns):\n",
            "Unique_ID       117286 non-null int64\n",
            "Store           117286 non-null int64\n",
            "Dept            117286 non-null int64\n",
            "Date            117286 non-null object\n",
            "Weekly_Sales    117286 non-null float64\n",
            "IsHoliday       117286 non-null bool\n",
            "IsSummer        117286 non-null bool\n",
            "Type            117286 non-null object\n",
            "Store_Size      117286 non-null int64\n",
            "Temperature     117286 non-null float64\n",
            "Fuel_Price      117286 non-null float64\n",
            "CPI             117286 non-null float64\n",
            "Unemployment    117286 non-null float64\n",
            "dtypes: bool(2), float64(5), int64(4), object(2)\n",
            "memory usage: 11.0+ MB\n"
          ],
          "name": "stdout"
        }
      ]
    },
    {
      "cell_type": "code",
      "metadata": {
        "id": "vBIBMpl_bVF3",
        "colab_type": "code",
        "outputId": "5fa4e54c-be81-455b-e6c1-b819c84e96e7",
        "colab": {
          "base_uri": "https://localhost:8080/",
          "height": 323
        }
      },
      "source": [
        "not_summer.info()"
      ],
      "execution_count": 0,
      "outputs": [
        {
          "output_type": "stream",
          "text": [
            "<class 'pandas.core.frame.DataFrame'>\n",
            "Int64Index: 304284 entries, 0 to 421569\n",
            "Data columns (total 13 columns):\n",
            "Unique_ID       304284 non-null int64\n",
            "Store           304284 non-null int64\n",
            "Dept            304284 non-null int64\n",
            "Date            304284 non-null object\n",
            "Weekly_Sales    304284 non-null float64\n",
            "IsHoliday       304284 non-null bool\n",
            "IsSummer        304284 non-null bool\n",
            "Type            304284 non-null object\n",
            "Store_Size      304284 non-null int64\n",
            "Temperature     304284 non-null float64\n",
            "Fuel_Price      304284 non-null float64\n",
            "CPI             304284 non-null float64\n",
            "Unemployment    304284 non-null float64\n",
            "dtypes: bool(2), float64(5), int64(4), object(2)\n",
            "memory usage: 28.4+ MB\n"
          ],
          "name": "stdout"
        }
      ]
    },
    {
      "cell_type": "code",
      "metadata": {
        "id": "-gb7PLyKkQzD",
        "colab_type": "code",
        "outputId": "d44788de-c592-433c-f783-35679c5b90d7",
        "colab": {
          "base_uri": "https://localhost:8080/",
          "height": 34
        }
      },
      "source": [
        "stats.ttest_ind(summer['Weekly_Sales'], not_summer['Weekly_Sales'])"
      ],
      "execution_count": 0,
      "outputs": [
        {
          "output_type": "execute_result",
          "data": {
            "text/plain": [
              "Ttest_indResult(statistic=1.7166046251644225, pvalue=0.08605217142970695)"
            ]
          },
          "metadata": {
            "tags": []
          },
          "execution_count": 68
        }
      ]
    },
    {
      "cell_type": "code",
      "metadata": {
        "id": "JeFO6tSIqqke",
        "colab_type": "code",
        "outputId": "dc953712-6841-495b-b2f5-70f3ff2ae218",
        "colab": {
          "base_uri": "https://localhost:8080/",
          "height": 34
        }
      },
      "source": [
        "get_95_ci(summer['Weekly_Sales'], not_summer['Weekly_Sales'])"
      ],
      "execution_count": 0,
      "outputs": [
        {
          "output_type": "execute_result",
          "data": {
            "text/plain": [
              "'The difference in means at the 95% confidence interval (two-tail) is between -283.9585747365529 and 15.973108791750064.'"
            ]
          },
          "metadata": {
            "tags": []
          },
          "execution_count": 69
        }
      ]
    },
    {
      "cell_type": "code",
      "metadata": {
        "id": "eAN7y4qdq4yI",
        "colab_type": "code",
        "outputId": "72aed9f5-58c2-4a63-cb84-d2e8c724bfe8",
        "colab": {
          "base_uri": "https://localhost:8080/",
          "height": 34
        }
      },
      "source": [
        "cohens_d(summer['Weekly_Sales'], not_summer['Weekly_Sales'])"
      ],
      "execution_count": 0,
      "outputs": [
        {
          "output_type": "execute_result",
          "data": {
            "text/plain": [
              "-0.005958494205933743"
            ]
          },
          "metadata": {
            "tags": []
          },
          "execution_count": 70
        }
      ]
    },
    {
      "cell_type": "markdown",
      "metadata": {
        "id": "2FuwsJFczthU",
        "colab_type": "text"
      },
      "source": [
        "**Hypothesis 2 Conclusion**\n",
        "\n",
        "Failed to reject the null hypothesis that mean of Weekly Sales is equal during the Summer and other seasons\n",
        "\n",
        "The sample means are not significantly different from each other at p > 0.05\n",
        "\n",
        "The difference in means at the 95% confidence interval (two-tail) is between -283 and 15 dollars\n",
        "\n",
        "Cohen's D is -0.005 indicating that the effect size extremely small or neglible\n"
      ]
    },
    {
      "cell_type": "markdown",
      "metadata": {
        "id": "fYCDpd5E1qU2",
        "colab_type": "text"
      },
      "source": [
        "**Hypothesis 3**\n",
        "\n",
        "Null Hypothesis: The mean of Weekly Sales is equal during the Holidays and Non-Holidays\n",
        "\n",
        "Alternative Hypothesis: The mean of Weekly Sales is greater during Holidays in comparison to other days during the year.\n",
        "\n",
        "The Holidays that were notated in the dataset are: \n",
        "\n",
        "Super Bowl: 12-Feb-10, 11-Feb-11, 10-Feb-12, 8-Feb-13\n",
        "\n",
        "Labor Day: 10-Sep-10, 9-Sep-11, 7-Sep-12, 6-Sep-13\n",
        "\n",
        "Thanksgiving: 26-Nov-10, 25-Nov-11, 23-Nov-12, 29-Nov-13\n",
        "\n",
        "Christmas: 31-Dec-10, 30-Dec-11, 28-Dec-12, 27-Dec-13\n"
      ]
    },
    {
      "cell_type": "code",
      "metadata": {
        "id": "T22ywow1cMVY",
        "colab_type": "code",
        "outputId": "954979cb-efcd-4761-9b56-b9a174221095",
        "colab": {
          "base_uri": "https://localhost:8080/",
          "height": 517
        }
      },
      "source": [
        "plt.figure(figsize = (11,8))\n",
        "sns.boxenplot( y='Weekly_Sales', x='IsHoliday', data=walmart)"
      ],
      "execution_count": 0,
      "outputs": [
        {
          "output_type": "execute_result",
          "data": {
            "text/plain": [
              "<matplotlib.axes._subplots.AxesSubplot at 0x7f10c3a056d8>"
            ]
          },
          "metadata": {
            "tags": []
          },
          "execution_count": 71
        },
        {
          "output_type": "display_data",
          "data": {
            "image/png": "[encoded data removed]",
            "text/plain": [
              "<Figure size 792x576 with 1 Axes>"
            ]
          },
          "metadata": {
            "tags": []
          }
        }
      ]
    },
    {
      "cell_type": "code",
      "metadata": {
        "id": "Pv82MPImzskZ",
        "colab_type": "code",
        "outputId": "e388e243-7e0a-47f9-93c5-93b92e1dfab9",
        "colab": {
          "base_uri": "https://localhost:8080/",
          "height": 323
        }
      },
      "source": [
        "holidays = walmart.iloc[(walmart['IsHoliday'] == True).values]\n",
        "non_holidays = walmart.iloc[(walmart['IsHoliday'] == False).values]\n",
        "holidays.info()"
      ],
      "execution_count": 0,
      "outputs": [
        {
          "output_type": "stream",
          "text": [
            "<class 'pandas.core.frame.DataFrame'>\n",
            "Int64Index: 29661 entries, 1 to 421562\n",
            "Data columns (total 13 columns):\n",
            "Unique_ID       29661 non-null int64\n",
            "Store           29661 non-null int64\n",
            "Dept            29661 non-null int64\n",
            "Date            29661 non-null object\n",
            "Weekly_Sales    29661 non-null float64\n",
            "IsHoliday       29661 non-null bool\n",
            "IsSummer        29661 non-null bool\n",
            "Type            29661 non-null object\n",
            "Store_Size      29661 non-null int64\n",
            "Temperature     29661 non-null float64\n",
            "Fuel_Price      29661 non-null float64\n",
            "CPI             29661 non-null float64\n",
            "Unemployment    29661 non-null float64\n",
            "dtypes: bool(2), float64(5), int64(4), object(2)\n",
            "memory usage: 2.8+ MB\n"
          ],
          "name": "stdout"
        }
      ]
    },
    {
      "cell_type": "code",
      "metadata": {
        "id": "k9sIMKGzq_MW",
        "colab_type": "code",
        "outputId": "3969ff78-df5d-4e77-9565-45d9a2b4e487",
        "colab": {
          "base_uri": "https://localhost:8080/",
          "height": 323
        }
      },
      "source": [
        "non_holidays.info()"
      ],
      "execution_count": 0,
      "outputs": [
        {
          "output_type": "stream",
          "text": [
            "<class 'pandas.core.frame.DataFrame'>\n",
            "Int64Index: 391909 entries, 0 to 421569\n",
            "Data columns (total 13 columns):\n",
            "Unique_ID       391909 non-null int64\n",
            "Store           391909 non-null int64\n",
            "Dept            391909 non-null int64\n",
            "Date            391909 non-null object\n",
            "Weekly_Sales    391909 non-null float64\n",
            "IsHoliday       391909 non-null bool\n",
            "IsSummer        391909 non-null bool\n",
            "Type            391909 non-null object\n",
            "Store_Size      391909 non-null int64\n",
            "Temperature     391909 non-null float64\n",
            "Fuel_Price      391909 non-null float64\n",
            "CPI             391909 non-null float64\n",
            "Unemployment    391909 non-null float64\n",
            "dtypes: bool(2), float64(5), int64(4), object(2)\n",
            "memory usage: 36.6+ MB\n"
          ],
          "name": "stdout"
        }
      ]
    },
    {
      "cell_type": "code",
      "metadata": {
        "id": "w_-uiRJTh0G3",
        "colab_type": "code",
        "outputId": "ac03c61d-298f-42a1-9dac-f7a107f04ebc",
        "colab": {
          "base_uri": "https://localhost:8080/",
          "height": 34
        }
      },
      "source": [
        "stats.ttest_ind(non_holidays['Weekly_Sales'] ,holidays['Weekly_Sales'])"
      ],
      "execution_count": 0,
      "outputs": [
        {
          "output_type": "execute_result",
          "data": {
            "text/plain": [
              "Ttest_indResult(statistic=-8.294756853931894, pvalue=1.0912222677432844e-16)"
            ]
          },
          "metadata": {
            "tags": []
          },
          "execution_count": 74
        }
      ]
    },
    {
      "cell_type": "code",
      "metadata": {
        "id": "yb7OY7fhiQ3y",
        "colab_type": "code",
        "outputId": "3b1781a1-827b-4af7-dcb7-e6bd7189715d",
        "colab": {
          "base_uri": "https://localhost:8080/",
          "height": 34
        }
      },
      "source": [
        "get_95_ci(non_holidays['Weekly_Sales'] ,holidays['Weekly_Sales'])"
      ],
      "execution_count": 0,
      "outputs": [
        {
          "output_type": "execute_result",
          "data": {
            "text/plain": [
              "'The difference in means at the 95% confidence interval (two-tail) is between 816.7858317348644 and 1451.9704049490658.'"
            ]
          },
          "metadata": {
            "tags": []
          },
          "execution_count": 75
        }
      ]
    },
    {
      "cell_type": "code",
      "metadata": {
        "id": "eYGEeBfKjilJ",
        "colab_type": "code",
        "outputId": "eb5256eb-5427-4e46-f85d-ae809da56200",
        "colab": {
          "base_uri": "https://localhost:8080/",
          "height": 34
        }
      },
      "source": [
        "cohens_d(non_holidays['Weekly_Sales'] ,holidays['Weekly_Sales'])"
      ],
      "execution_count": 0,
      "outputs": [
        {
          "output_type": "execute_result",
          "data": {
            "text/plain": [
              "0.04556324113440427"
            ]
          },
          "metadata": {
            "tags": []
          },
          "execution_count": 76
        }
      ]
    },
    {
      "cell_type": "markdown",
      "metadata": {
        "id": "k2hYOfhZoabb",
        "colab_type": "text"
      },
      "source": [
        "**Hypothesis 3 Conclusion**\n",
        "\n",
        "We reject the null hypothesis that mean of Weekly Sales is equal during Holidays and Non-Holidays\n",
        "\n",
        "The sample means are not significantly different from each other at p = 1\n",
        "\n",
        "The difference in means at the 95% confidence interval (two-tail) is between  816 and 1451 dollars\n"
      ]
    },
    {
      "cell_type": "markdown",
      "metadata": {
        "id": "v1jec3mmvUvK",
        "colab_type": "text"
      },
      "source": [
        "**The Big Conclusion**\n",
        "\n",
        "I know I just threw a lot of numbers out there. it was all in an effort to answer my intial question. What factors drive sales in Walmart? We need to know the answer to that question so we can understand when and where to increase our inventory in reponse to demand.\n",
        "\n",
        "What we found out was that stores that are > ~11,000 sqft. generate between 8927 and 9195 dollars (at a 95% confidence interval) more than stores < ~11,000 sqft. This indicates stores of greater size will need more inventory than does of smaller sizes\n",
        "\n",
        "We also found out that during Holidays stores generate  between 816 and 1451 dollars (at a 95% confidence interval) more than days that are non-holidays. This indicates that we will need more inventory during Holiday \n",
        "\n",
        "Finally, Seasons have little to no effect on Weekly Sales. This indicates stores should keep their inventory steady during these periods of time (unless they are an outlier and their data tells them otherwise)"
      ]
    },
    {
      "cell_type": "code",
      "metadata": {
        "id": "cSjhJbXmygr_",
        "colab_type": "code",
        "outputId": "a9380d05-d66f-4f90-d511-722d75ee9bd3",
        "colab": {
          "base_uri": "https://localhost:8080/",
          "height": 119
        }
      },
      "source": [
        "def avg(lst):\n",
        "  return sum(lst)/len(lst)\n",
        "\n",
        "print(avg(bigger_stores['Weekly_Sales']))\n",
        "print(avg(smaller_stores['Weekly_Sales']))\n",
        "\n",
        "print(avg(holidays['Weekly_Sales']))\n",
        "print(avg(non_holidays['Weekly_Sales']))\n",
        "\n",
        "print(avg(summer['Weekly_Sales']))\n",
        "print(avg(not_summer['Weekly_Sales']))"
      ],
      "execution_count": 0,
      "outputs": [
        {
          "output_type": "stream",
          "text": [
            "20478.17135186557\n",
            "11417.026285232892\n",
            "17035.82318735048\n",
            "15901.445069008516\n",
            "16077.972417083645\n",
            "15943.979684111244\n"
          ],
          "name": "stdout"
        }
      ]
    },
    {
      "cell_type": "code",
      "metadata": {
        "id": "onc029c_6RFM",
        "colab_type": "code",
        "colab": {}
      },
      "source": [
        "def error(lst):\n",
        "  er = math.sqrt(statistics.variance(lst) / len(lst))\n",
        "  return er\n",
        "\n"
      ],
      "execution_count": 0,
      "outputs": []
    },
    {
      "cell_type": "code",
      "metadata": {
        "id": "NHZdLccB80xj",
        "colab_type": "code",
        "outputId": "0bdb94e8-524e-4e0b-9c8d-8840a49f33a5",
        "colab": {
          "base_uri": "https://localhost:8080/",
          "height": 119
        }
      },
      "source": [
        "print(error(bigger_stores['Weekly_Sales']))\n",
        "print(error(smaller_stores['Weekly_Sales']))\n",
        "\n",
        "print(error(holidays['Weekly_Sales']))\n",
        "print(error(non_holidays['Weekly_Sales']))\n",
        "\n",
        "print(error(summer['Weekly_Sales']))\n",
        "print(error(not_summer['Weekly_Sales']))"
      ],
      "execution_count": 0,
      "outputs": [
        {
          "output_type": "stream",
          "text": [
            "57.49253582017549\n",
            "36.94381370962304\n",
            "158.06187947982164\n",
            "35.67061864102704\n",
            "64.16790746772793\n",
            "41.67429741217872\n"
          ],
          "name": "stdout"
        }
      ]
    },
    {
      "cell_type": "code",
      "metadata": {
        "id": "22JP5Z8I86o0",
        "colab_type": "code",
        "colab": {}
      },
      "source": [
        ""
      ],
      "execution_count": 0,
      "outputs": []
    },
    {
      "cell_type": "code",
      "metadata": {
        "id": "AXKu2OMF9F_n",
        "colab_type": "code",
        "colab": {}
      },
      "source": [
        ""
      ],
      "execution_count": 0,
      "outputs": []
    }
  ]
}